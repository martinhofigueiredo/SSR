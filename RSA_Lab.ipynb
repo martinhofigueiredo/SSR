{
 "cells": [
  {
   "attachments": {},
   "cell_type": "markdown",
   "metadata": {},
   "source": [
    "# RSA Public-Key Encryption And Signature Lab\n",
    "\n",
    "## Lab Tasks\n",
    "\n",
    "### __TASK 1__ Deriving the Private Key\n",
    "\n",
    "Let p, q, and e be three prime numbers. Let n = p*q. We will use (e, n) as the public key. Please calculate\n",
    "the private key d. The hexadecimal values of p, q, and e are listed in the following. It should be noted that\n",
    "although p and q used in this task are quite large numbers, they are not large enough to be secure. We\n",
    "intentionally make them small for the sake of simplicity. In practice, these numbers should be at least 512\n",
    "bits long (the one used here are only 128 bits).\n"
   ]
  },
  {
   "cell_type": "code",
   "execution_count": 15,
   "metadata": {},
   "outputs": [
    {
     "name": "stdout",
     "output_type": "stream",
     "text": [
      "Private Key 24212225287904763939160097464943268930139828978795606022583874367720623008491\n",
      "Should be 1 => 1\n"
     ]
    }
   ],
   "source": [
    "import numpy as np\n",
    "\n",
    "p = 0xF7E75FDC469067FFDC4E847C51F452DF\n",
    "q = 0xE85CED54AF57E53E092113E62F436F4F\n",
    "e = 0x0D88C3\n",
    "\n",
    "lambeda = ((p-1)*(q-1))//np.gcd(p-1,q-1)\n",
    "\n",
    "\n",
    "d  = pow(e,-1,lambeda) #private key\n",
    "print (f\"Private Key {d}\")\n",
    "print(f\"Should be 1 => {e * d % lambeda}\")"
   ]
  },
  {
   "attachments": {},
   "cell_type": "markdown",
   "metadata": {},
   "source": [
    "## __Task 2__ Encrypting a Message\n",
    "Let (e, n) be the public key. Please encrypt the message ``\"A top secret!\"`` (quotations not included). We\n",
    "need to convert this ASCII string to a hex string, and then convert the hex string to an integer. The following\n",
    "python code can be used to convert plain ASCII strings to hex strings:"
   ]
  },
  {
   "cell_type": "code",
   "execution_count": 2,
   "metadata": {},
   "outputs": [
    {
     "name": "stdout",
     "output_type": "stream",
     "text": [
      "b'4120746f702073656372657421'\n"
     ]
    }
   ],
   "source": [
    "import codecs\n",
    "print(codecs.encode(\"A top secret!\".encode(), \"hex\"))"
   ]
  },
  {
   "attachments": {},
   "cell_type": "markdown",
   "metadata": {},
   "source": [
    "And the following function converts ASCII strings directly to integers"
   ]
  },
  {
   "cell_type": "code",
   "execution_count": 3,
   "metadata": {},
   "outputs": [
    {
     "name": "stdout",
     "output_type": "stream",
     "text": [
      "5159874845387593541659235021857\n"
     ]
    }
   ],
   "source": [
    "message = f\"A top secret!\"\n",
    "\n",
    "def string_to_int(string_message):\n",
    "    strmsg = codecs.encode(string_message.encode(), \"hex\")\n",
    "    return int(strmsg.decode(), 16)\n",
    "\n",
    "print(string_to_int(message))"
   ]
  },
  {
   "attachments": {},
   "cell_type": "markdown",
   "metadata": {},
   "source": [
    "The public keys are listed in the followings (hexadecimal). We also provide the private key d to help you verify\n",
    "your encryption result."
   ]
  },
  {
   "cell_type": "code",
   "execution_count": 4,
   "metadata": {},
   "outputs": [
    {
     "name": "stdout",
     "output_type": "stream",
     "text": [
      "b'A top secret!'\n"
     ]
    }
   ],
   "source": [
    "n = 0xDCBFFE3E51F62E09CE7032E2677A78946A849DC4CDDE3A4D0CB81629242FB1A5\n",
    "e = 0x010001 # this hex value equals to decimal 65537\n",
    "M = \"A top secret!\"\n",
    "\n",
    "d = 0x74D806F9F3A62BAE331FFE3F0A68AFE35B3D2E4794148AACBC26AA381CD7D30D\n",
    "\n",
    "c = pow(string_to_int(M), e, n)\n",
    "M2 = codecs.decode(hex(pow(c, d, n))[2:], \"hex\") #Decrypt\n",
    "\n",
    "print(M2)"
   ]
  },
  {
   "attachments": {},
   "cell_type": "markdown",
   "metadata": {},
   "source": [
    "## __Task 3__ Decrypting a Message\n",
    "\n",
    "The public/private keys used in this task are the same as the ones used in Task 2. Please decrypt the following\n",
    "ciphertext C, and convert it back to a plain ASCII string.\n",
    "\n"
   ]
  },
  {
   "cell_type": "code",
   "execution_count": 6,
   "metadata": {},
   "outputs": [],
   "source": [
    "C=0x8C0F971DF2F3672B28811407E2DABBE1DA0FEBBBDFC7DCB67396567EA1E2493F"
   ]
  },
  {
   "cell_type": "markdown",
   "metadata": {},
   "source": [
    "\n",
    "You can use the following code to convert integers back to ASCII strings:"
   ]
  },
  {
   "cell_type": "code",
   "execution_count": 1,
   "metadata": {},
   "outputs": [
    {
     "name": "stdout",
     "output_type": "stream",
     "text": [
      "b'A top secret!'\n"
     ]
    }
   ],
   "source": [
    "import codecs\n",
    "def int_to_bytes(int_message):\n",
    "    return codecs.decode(hex(int_message)[2:], \"hex\")\n",
    "\n",
    "print(int_to_bytes(5159874845387593541659235021857))"
   ]
  },
  {
   "attachments": {},
   "cell_type": "markdown",
   "metadata": {},
   "source": [
    "If you already have the hex (binary) string, you can skip the hex conversion:"
   ]
  },
  {
   "cell_type": "code",
   "execution_count": 5,
   "metadata": {},
   "outputs": [
    {
     "data": {
      "text/plain": [
       "b'A top secret!'"
      ]
     },
     "execution_count": 5,
     "metadata": {},
     "output_type": "execute_result"
    }
   ],
   "source": [
    "hexstr = b'4120746f702073656372657421'\n",
    "codecs.decode(hexstr, \"hex\")"
   ]
  },
  {
   "cell_type": "code",
   "execution_count": null,
   "metadata": {},
   "outputs": [],
   "source": []
  }
 ],
 "metadata": {
  "kernelspec": {
   "display_name": "Python 3",
   "language": "python",
   "name": "python3"
  },
  "language_info": {
   "codemirror_mode": {
    "name": "ipython",
    "version": 3
   },
   "file_extension": ".py",
   "mimetype": "text/x-python",
   "name": "python",
   "nbconvert_exporter": "python",
   "pygments_lexer": "ipython3",
   "version": "3.10.6"
  },
  "vscode": {
   "interpreter": {
    "hash": "e7370f93d1d0cde622a1f8e1c04877d8463912d04d973331ad4851f04de6915a"
   }
  }
 },
 "nbformat": 4,
 "nbformat_minor": 4
}

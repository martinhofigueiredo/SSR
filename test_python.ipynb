{
 "cells": [
  {
   "attachments": {},
   "cell_type": "markdown",
   "metadata": {},
   "source": [
    "# First Step Find Cookies and copy them "
   ]
  },
  {
   "cell_type": "code",
   "execution_count": null,
   "metadata": {},
   "outputs": [],
   "source": [
    "import os"
   ]
  },
  {
   "cell_type": "code",
   "execution_count": 1,
   "metadata": {},
   "outputs": [
    {
     "name": "stdout",
     "output_type": "stream",
     "text": [
      "Collecting browser_cookie3\n",
      "  Downloading browser_cookie3-0.18.0-py3-none-any.whl (13 kB)\n",
      "Collecting lz4\n",
      "  Downloading lz4-4.3.2-cp311-cp311-manylinux_2_17_x86_64.manylinux2014_x86_64.whl (1.3 MB)\n",
      "\u001b[2K     \u001b[90m━━━━━━━━━━━━━━━━━━━━━━━━━━━━━━━━━━━━━━━━\u001b[0m \u001b[32m1.3/1.3 MB\u001b[0m \u001b[31m17.9 MB/s\u001b[0m eta \u001b[36m0:00:00\u001b[0m00:01\u001b[0m00:01\u001b[0m\n",
      "\u001b[?25hCollecting pycryptodomex\n",
      "  Downloading pycryptodomex-3.17-cp35-abi3-manylinux_2_17_x86_64.manylinux2014_x86_64.whl (2.1 MB)\n",
      "\u001b[2K     \u001b[90m━━━━━━━━━━━━━━━━━━━━━━━━━━━━━━━━━━━━━━━━\u001b[0m \u001b[32m2.1/2.1 MB\u001b[0m \u001b[31m31.5 MB/s\u001b[0m eta \u001b[36m0:00:00\u001b[0ma \u001b[36m0:00:01\u001b[0m\n",
      "\u001b[?25hRequirement already satisfied: jeepney in /home/gitpod/.pyenv/versions/3.11.1/lib/python3.11/site-packages (from browser_cookie3) (0.8.0)\n",
      "Installing collected packages: pycryptodomex, lz4, browser_cookie3\n",
      "Successfully installed browser_cookie3-0.18.0 lz4-4.3.2 pycryptodomex-3.17\n",
      "\n",
      "\u001b[1m[\u001b[0m\u001b[34;49mnotice\u001b[0m\u001b[1;39;49m]\u001b[0m\u001b[39;49m A new release of pip is available: \u001b[0m\u001b[31;49m23.0.1\u001b[0m\u001b[39;49m -> \u001b[0m\u001b[32;49m23.1.2\u001b[0m\n",
      "\u001b[1m[\u001b[0m\u001b[34;49mnotice\u001b[0m\u001b[1;39;49m]\u001b[0m\u001b[39;49m To update, run: \u001b[0m\u001b[32;49mpip install --upgrade pip\u001b[0m\n",
      "Note: you may need to restart the kernel to use updated packages.\n"
     ]
    }
   ],
   "source": [
    "%pip install browser_cookie3"
   ]
  },
  {
   "cell_type": "code",
   "execution_count": null,
   "metadata": {},
   "outputs": [],
   "source": [
    "import browser_cookie3\n",
    "f= open(\"cookies.txt\",\"w+\")\n",
    "def getCookiesFromDomain(domain,cookieName=''):\n",
    "    f.truncate(0)\n",
    "\n",
    "    Cookies={}\n",
    "    chromeCookies = list(browser_cookie3.chrome())\n",
    "\n",
    "    for cookie in chromeCookies:\n",
    "\n",
    "        if (domain in cookie.domain):\n",
    "            #print (cookie.name, cookie.domain,cookie.value)\n",
    "            Cookies[cookie.name]=cookie.value\n",
    "            f.write(cookie.value)\n",
    "\n",
    "    if(cookieName!=''):\n",
    "        try:\n",
    "            return Cookies[cookieName] #return specified cookie\n",
    "        except:\n",
    "            return {} #if exception raised return an empty dictionary\n",
    "    else:\n",
    "        return Cookies #return all cookies or nothing\n",
    "\n",
    "print(getCookiesFromDomain(\"\",\"\")) #imprimir para terminal\n",
    "\n",
    "f.close()"
   ]
  }
 ],
 "metadata": {
  "kernelspec": {
   "display_name": "Python 3",
   "language": "python",
   "name": "python3"
  },
  "language_info": {
   "codemirror_mode": {
    "name": "ipython",
    "version": 3
   },
   "file_extension": ".py",
   "mimetype": "text/x-python",
   "name": "python",
   "nbconvert_exporter": "python",
   "pygments_lexer": "ipython3",
   "version": "3.11.1"
  },
  "orig_nbformat": 4
 },
 "nbformat": 4,
 "nbformat_minor": 2
}
